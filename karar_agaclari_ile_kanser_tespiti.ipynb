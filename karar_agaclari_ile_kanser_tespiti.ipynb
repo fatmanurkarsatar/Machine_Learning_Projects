{
  "nbformat": 4,
  "nbformat_minor": 0,
  "metadata": {
    "colab": {
      "provenance": [],
      "authorship_tag": "ABX9TyO3ZzPGFRq8tgEs5jyerDlQ",
      "include_colab_link": true
    },
    "kernelspec": {
      "name": "python3",
      "display_name": "Python 3"
    },
    "language_info": {
      "name": "python"
    }
  },
  "cells": [
    {
      "cell_type": "markdown",
      "metadata": {
        "id": "view-in-github",
        "colab_type": "text"
      },
      "source": [
        "<a href=\"https://colab.research.google.com/github/fatmanurkarsatar/Machine_Learning_Projects/blob/main/karar_agaclari_ile_kanser_tespiti.ipynb\" target=\"_parent\"><img src=\"https://colab.research.google.com/assets/colab-badge.svg\" alt=\"Open In Colab\"/></a>"
      ]
    },
    {
      "cell_type": "code",
      "source": [
        "import pandas as pd\n",
        "import numpy as np\n",
        "from sklearn.tree import DecisionTreeClassifier\n",
        "from sklearn.model_selection import train_test_split"
      ],
      "metadata": {
        "id": "n0Tfe9vurEiI"
      },
      "execution_count": null,
      "outputs": []
    },
    {
      "cell_type": "code",
      "source": [
        "kanser=pd.read_csv('breast-cancer.csv')"
      ],
      "metadata": {
        "id": "SuDHqbzNrFPw"
      },
      "execution_count": null,
      "outputs": []
    },
    {
      "cell_type": "code",
      "source": [
        "kanser.head(3)"
      ],
      "metadata": {
        "id": "NOLYyXXTrFSo"
      },
      "execution_count": null,
      "outputs": []
    },
    {
      "cell_type": "code",
      "source": [
        "kanser.info()"
      ],
      "metadata": {
        "id": "YNIlzfwrt6uU"
      },
      "execution_count": null,
      "outputs": []
    },
    {
      "cell_type": "code",
      "source": [
        "y = kanser[['diagnosis']]\n",
        "x = kanser.drop(columns=['diagnosis','id'],axis=1)"
      ],
      "metadata": {
        "id": "0TBIYz_5t6jl"
      },
      "execution_count": null,
      "outputs": []
    },
    {
      "cell_type": "code",
      "source": [
        "x_train,x_test,y_train,y_test=train_test_split(x,y,train_size=0.8,random_state=34)"
      ],
      "metadata": {
        "id": "bJ77mig5t6dM"
      },
      "execution_count": null,
      "outputs": []
    },
    {
      "cell_type": "code",
      "source": [
        "tree = DecisionTreeClassifier()\n",
        "model = tree.fit(x_train,y_train)"
      ],
      "metadata": {
        "id": "migMyx4Uwsib"
      },
      "execution_count": null,
      "outputs": []
    },
    {
      "cell_type": "code",
      "source": [
        "model.score(x_test,y_test)"
      ],
      "metadata": {
        "id": "Xkq2nxDT0E4W"
      },
      "execution_count": null,
      "outputs": []
    },
    {
      "cell_type": "markdown",
      "source": [
        "# Yeni Bölüm"
      ],
      "metadata": {
        "id": "GfuQW6bo3y7O"
      }
    },
    {
      "cell_type": "code",
      "source": [
        "model.predict([[]])"
      ],
      "metadata": {
        "id": "o1pahlBTCv_t"
      },
      "execution_count": null,
      "outputs": []
    },
    {
      "cell_type": "code",
      "source": [
        "list(kanser.iloc[175])"
      ],
      "metadata": {
        "id": "3QVKWmzKBw0_"
      },
      "execution_count": null,
      "outputs": []
    },
    {
      "cell_type": "code",
      "source": [],
      "metadata": {
        "id": "WTOW_bLMCRtR"
      },
      "execution_count": null,
      "outputs": []
    }
  ]
}