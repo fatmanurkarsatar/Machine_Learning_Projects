{
  "nbformat": 4,
  "nbformat_minor": 0,
  "metadata": {
    "colab": {
      "provenance": [],
      "authorship_tag": "ABX9TyNC0Dcc+M81iWPPzUWxAssu",
      "include_colab_link": true
    },
    "kernelspec": {
      "name": "python3",
      "display_name": "Python 3"
    },
    "language_info": {
      "name": "python"
    }
  },
  "cells": [
    {
      "cell_type": "markdown",
      "metadata": {
        "id": "view-in-github",
        "colab_type": "text"
      },
      "source": [
        "<a href=\"https://colab.research.google.com/github/fatmanurkarsatar/Machine_Learning_Projects/blob/main/knn_iris_cicegi_odev.ipynb\" target=\"_parent\"><img src=\"https://colab.research.google.com/assets/colab-badge.svg\" alt=\"Open In Colab\"/></a>"
      ]
    },
    {
      "cell_type": "code",
      "execution_count": null,
      "metadata": {
        "id": "Y2JfvLas9IeI"
      },
      "outputs": [],
      "source": [
        "import math\n",
        "\n",
        "sl = [5.3, 5.1, 7.2, 5.4, 5.1, 5.4, 7.4, 6.1, 7.3, 6.0, 5.8, 6.3, 5.1, 6.3, 5.5]\n",
        "sw = [3.8, 3.7, 3.0, 3.4, 3.3, 3.9, 2.8, 2.8, 2.9, 2.7, 2.8, 2.3, 2.5, 2.5, 2.4]\n",
        "tur = [\"Setosa\",\"Setosa\",\"Virginica\",\"Setosa\",\"Setosa\",\"Setosa\",\"Virginica\",\"Verscicolor\",\"Virginica\",\"Verscicolor\",\"Virginica\",\"Verscicolor\",\"Verscicolor\",\"Verscicolor\",\"Verscicolor\"]\n",
        "\n",
        "l = float(input(\"lütfen sepal uzunluk değeri giriniz:\"))\n",
        "w = float(input(\"lütfen sepal genişlik değeri giriniz:\"))\n",
        "k = int(input(\"lütfen k değeri giriniz:\"))\n",
        "\n",
        "di = {}\n",
        "for i in range(len(sl)):\n",
        "    lfark = sl[i]-l\n",
        "    wfark = sw[i]-w\n",
        "    u = math.sqrt(math.pow(lfark,2)+math.pow(wfark,2))\n",
        "    di.update({i:u})\n",
        "print(di)\n",
        "dit = {k: v for k, v in sorted(di.items(), key=lambda item: item[1])}\n",
        "print(dit)\n",
        "\n",
        "for i in dit:\n",
        "  print(sl[i],\"  \",sw[i],\"  \",tur[i],\"  \",dit[i])\n",
        "\n",
        "dit_list = list(dit)\n",
        "print(dit_list)\n",
        "\n",
        "k_list = []\n",
        "for i in range(k):\n",
        "  k_list.append(tur[dit_list[i]])\n",
        "\n",
        "print(k_list)\n",
        "versicolor = setosa = virginica = 0\n",
        "versicolor = k_list.count(\"Versicolor\")\n",
        "setosa = k_list.count(\"Setosa\")\n",
        "virginica = k_list.count(\"Virginica\")\n",
        "\n",
        "if versicolor>setosa and versicolor>virginica:\n",
        "  print(\"Sınıflandırma sonucu = Versicolor\")\n",
        "elif setosa>versicolor and setosa>virginica:\n",
        "  print(\"Sınıflandırma sonucu = Setosa\")\n",
        "else:\n",
        "  print(\"Sınıflandırma sonucu = Virginica\")\n"
      ]
    }
  ]
}