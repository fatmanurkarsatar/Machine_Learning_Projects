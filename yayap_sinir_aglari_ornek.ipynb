{
  "nbformat": 4,
  "nbformat_minor": 0,
  "metadata": {
    "colab": {
      "provenance": [],
      "authorship_tag": "ABX9TyOSwK9DzANpfCiKgjJP1Fun",
      "include_colab_link": true
    },
    "kernelspec": {
      "name": "python3",
      "display_name": "Python 3"
    },
    "language_info": {
      "name": "python"
    }
  },
  "cells": [
    {
      "cell_type": "markdown",
      "metadata": {
        "id": "view-in-github",
        "colab_type": "text"
      },
      "source": [
        "<a href=\"https://colab.research.google.com/github/fatmanurkarsatar/Machine_Learning_Projects/blob/main/yayap_sinir_aglari_ornek.ipynb\" target=\"_parent\"><img src=\"https://colab.research.google.com/assets/colab-badge.svg\" alt=\"Open In Colab\"/></a>"
      ]
    },
    {
      "cell_type": "code",
      "execution_count": null,
      "metadata": {
        "colab": {
          "base_uri": "https://localhost:8080/"
        },
        "id": "Pxdf1qmfhd_5",
        "outputId": "380368a3-3bb9-43c4-8c7b-a02b82327c05"
      },
      "outputs": [
        {
          "output_type": "stream",
          "name": "stdout",
          "text": [
            "eğitim tamamlandı!\n",
            "Eğitim sonrası ağırlıklar:\n",
            "[2.1, 2.6999999999999997, 2.3, 2.4]\n",
            "lütfen test değerlerini giriniz:1 0 1 0\n",
            "1\n"
          ]
        }
      ],
      "source": [
        "a1 = [0,0,0,0,0,0,1,1,1,1]\n",
        "a2 = [0,0,0,0,1,1,0,0,1,1]\n",
        "a3 = [0,0,1,1,0,1,0,1,0,1]\n",
        "a4 = [0,1,0,1,0,0,1,1,0,1]\n",
        "cikti = [0,1,1,0,1,0,0,1,0,0]\n",
        "agirlik = [1.20,1.80,1.40,1.50]\n",
        "fi = 0\n",
        "lmbda = 0.3\n",
        "NET = 0\n",
        "output = 0\n",
        "\n",
        "def net_hesapla(i):\n",
        "  NET = a1[i]*agirlik[0]+a2[i]*agirlik[1]+a3[i]*agirlik[2]+a4[i]*agirlik[3];\n",
        "  return NET\n",
        "\n",
        "def perceptron_cikti(net):\n",
        "  if net>fi:\n",
        "    output=1\n",
        "  else:\n",
        "    output=0\n",
        "  return output\n",
        "\n",
        "def agirliklari_yeniden_hesapla(o, i):\n",
        "    if o != cikti[i]:\n",
        "        agirlik[0] = agirlik[0] + lmbda * a1[i]\n",
        "        agirlik[1] = agirlik[1] + lmbda * a2[i]\n",
        "        agirlik[2] = agirlik[2] + lmbda * a3[i]\n",
        "        agirlik[3] = agirlik[3] + lmbda * a4[i]\n",
        "\n",
        "for i in range(1):\n",
        "  for j in range(len(cikti)):\n",
        "    a = net_hesapla(j);\n",
        "    op = perceptron_cikti(a)\n",
        "    agirliklari_yeniden_hesapla(op,j)\n",
        "\n",
        "print(\"eğitim tamamlandı!\\nEğitim sonrası ağırlıklar:\")\n",
        "print(agirlik)\n",
        "\n",
        "g1, g2, g3, g4 = input(\"lütfen test değerlerini giriniz:\").split()\n",
        "a1[0] = int(g1)\n",
        "a2[0] = int(g2)\n",
        "a3[0] = int(g3)\n",
        "a4[0] = int(g4)\n",
        "print(perceptron_cikti(net_hesapla(0)))\n",
        "\n",
        "\n",
        "\n",
        "\n"
      ]
    }
  ]
}